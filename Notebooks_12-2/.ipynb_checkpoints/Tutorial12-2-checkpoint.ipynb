{
 "cells": [
  {
   "cell_type": "code",
   "execution_count": 1,
   "id": "dc9de474",
   "metadata": {},
   "outputs": [],
   "source": [
    "from scipy.integrate import solve_ivp\n",
    "import numpy as np\n",
    "import matplotlib.pyplot as plt"
   ]
  },
  {
   "cell_type": "code",
   "execution_count": 12,
   "id": "b86f4fcd",
   "metadata": {},
   "outputs": [],
   "source": [
    "def fsyst(x, p, t):\n",
    "    f = np.empty((1,))\n",
    "    if t < p['T']:\n",
    "        at = np.cosh(p['rate']*(t- p['T']))\n",
    "    else:\n",
    "        at = 1.\n",
    "    lam = p['lambda_min'] + p['delta_lambda'] / at\n",
    "    f[0] = -x[0]*((x[0]- p['A'] - p['s']*lam)**2 + lam)\n",
    "    return f\n",
    "def f(t,X):\n",
    "    return fsyst(X,p,t)"
   ]
  },
  {
   "cell_type": "code",
   "execution_count": 16,
   "id": "8e4e9c10",
   "metadata": {},
   "outputs": [
    {
     "data": {
      "text/plain": [
       "Text(0, 0.5, '$x$')"
      ]
     },
     "execution_count": 16,
     "metadata": {},
     "output_type": "execute_result"
    },
    {
     "data": {
      "image/png": "[encoded data removed]",
      "text/plain": [
       "<Figure size 360x360 with 1 Axes>"
      ]
     },
     "metadata": {
      "needs_background": "light"
     },
     "output_type": "display_data"
    }
   ],
   "source": [
    "p={}\n",
    "\n",
    "p['A']= 3.2\n",
    "p['s']= 4.0\n",
    "p['lambda_min'] = -0.5\n",
    "p['delta_lambda'] =  0.505\n",
    "p['rate'] = 0.05 \n",
    "\n",
    "p['T']=500\n",
    "p['dt']=0.1\n",
    "p['Ttime'] = 1000.\n",
    "p['steps']= int(p['Ttime']//p['dt'])\n",
    "#Initial conditions\n",
    "X_0= [p['A'] + p['s'] * p['lambda_min'] + np.sqrt(-p['lambda_min'])]\n",
    "sol1 = solve_ivp(f,(0,p['Ttime']),X_0,method='RK45',vectorized=True,max_step=p['dt'])\n",
    "\n",
    "plt.figure(1,figsize=(5,5))\n",
    "plt.plot(sol1.t,sol1.y[0,:],'k')\n",
    "plt.xlabel(r'$t$',fontsize=16); plt.ylabel(r'$x$',fontsize=16,rotation=0)"
   ]
  },
  {
   "cell_type": "code",
   "execution_count": null,
   "id": "1b74a772",
   "metadata": {},
   "outputs": [],
   "source": []
  }
 ],
 "metadata": {
  "kernelspec": {
   "display_name": "Python 3 (ipykernel)",
   "language": "python",
   "name": "python3"
  },
  "language_info": {
   "codemirror_mode": {
    "name": "ipython",
    "version": 3
   },
   "file_extension": ".py",
   "mimetype": "text/x-python",
   "name": "python",
   "nbconvert_exporter": "python",
   "pygments_lexer": "ipython3",
   "version": "3.9.7"
  }
 },
 "nbformat": 4,
 "nbformat_minor": 5
}
