{
 "cells": [
  {
   "cell_type": "code",
   "execution_count": 7,
   "id": "dc9de474",
   "metadata": {},
   "outputs": [],
   "source": [
    "from scipy.integrate import solve_ivp\n",
    "import numpy as np\n",
    "import matplotlib.pyplot as plt"
   ]
  },
  {
   "cell_type": "code",
   "execution_count": 11,
   "id": "b86f4fcd",
   "metadata": {},
   "outputs": [],
   "source": [
    "def fsyst(x, p, t):\n",
    "    f = np.empty((2,))\n",
    "    phi = p['phi0'] + p['rate'] * t \n",
    "    f[0] = p['a1']*x[0]**3 + p['a2']*x[0] + phi \n",
    "    f[1] = p['b1']*x[1]**3 + p['b2']*x[1] + p['c']*x[0]\n",
    "    return f\n",
    "def f(t,X):\n",
    "    return fsyst(X,p,t)"
   ]
  },
  {
   "cell_type": "code",
   "execution_count": 17,
   "id": "8e4e9c10",
   "metadata": {},
   "outputs": [
    {
     "data": {
      "text/plain": [
       "Text(0, 0.5, '$x,y$')"
      ]
     },
     "execution_count": 17,
     "metadata": {},
     "output_type": "execute_result"
    },
    {
     "data": {
      "image/png": "[encoded data removed]",
      "text/plain": [
       "<Figure size 360x360 with 1 Axes>"
      ]
     },
     "metadata": {
      "needs_background": "light"
     },
     "output_type": "display_data"
    }
   ],
   "source": [
    "p={}\n",
    "\n",
    "p['a1']= -0.5\n",
    "p['b1']= -0.5\n",
    "p['a2'] = 0.5\n",
    "p['b2'] =  1.0\n",
    "p['c'] = 0.48\n",
    "p['phi0'] = 0.1 \n",
    "p['rate'] = 0.0005\n",
    "\n",
    "p['dt']=0.1\n",
    "p['Ttime'] = 500.\n",
    "p['steps']= int(p['Ttime']//p['dt'])\n",
    "#Initial conditions\n",
    "X_0= [-0.8,-1.6]\n",
    "sol1 = solve_ivp(f,(0,p['Ttime']),X_0,method='RK45',vectorized=True,max_step=p['dt'])\n",
    "\n",
    "plt.figure(1,figsize=(5,5))\n",
    "plt.plot(sol1.t,sol1.y[0,:],'k')\n",
    "plt.plot(sol1.t,sol1.y[1,:],'r')\n",
    "plt.xlabel(r'$t$',fontsize=16); plt.ylabel(r'$x,y$',fontsize=16,rotation=0)"
   ]
  },
  {
   "cell_type": "code",
   "execution_count": null,
   "id": "1b74a772",
   "metadata": {},
   "outputs": [],
   "source": []
  }
 ],
 "metadata": {
  "kernelspec": {
   "display_name": "Python 3 (ipykernel)",
   "language": "python",
   "name": "python3"
  },
  "language_info": {
   "codemirror_mode": {
    "name": "ipython",
    "version": 3
   },
   "file_extension": ".py",
   "mimetype": "text/x-python",
   "name": "python",
   "nbconvert_exporter": "python",
   "pygments_lexer": "ipython3",
   "version": "3.9.7"
  }
 },
 "nbformat": 4,
 "nbformat_minor": 5
}
