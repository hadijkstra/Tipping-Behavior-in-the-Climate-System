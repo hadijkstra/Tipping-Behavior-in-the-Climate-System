{
 "cells": [
  {
   "cell_type": "code",
   "execution_count": 2,
   "id": "f29b7614",
   "metadata": {},
   "outputs": [],
   "source": [
    "import PyDSTool as dst\n",
    "import numpy as np\n",
    "from matplotlib import pyplot as plt"
   ]
  },
  {
   "cell_type": "code",
   "execution_count": 3,
   "id": "6001a845",
   "metadata": {},
   "outputs": [],
   "source": [
    "# name\n",
    "DSargs = dst.args(name='BTB-SN')\n",
    "# parameters\n",
    "DSargs.pars = { 'a': -0.5,\n",
    "                'b': 0.5,\n",
    "                'phi': 0.1}\n",
    "# rhs of the differential equation\n",
    "DSargs.varspecs = {'x': 'a*x**3 + b*x + phi'}\n",
    "# initial conditions\n",
    "DSargs.ics      = {'x': -1.0}"
   ]
  },
  {
   "cell_type": "code",
   "execution_count": 4,
   "id": "6910c28f",
   "metadata": {},
   "outputs": [
    {
     "name": "stdout",
     "output_type": "stream",
     "text": [
      "LP Point found \n",
      "LP Point found \n"
     ]
    },
    {
     "data": {
      "text/plain": [
       "Text(0.5, 1.0, 'Bifurcation diagram BTB-SN')"
      ]
     },
     "execution_count": 4,
     "metadata": {},
     "output_type": "execute_result"
    },
    {
     "data": {
      "image/png": "[encoded data removed]",
      "text/plain": [
       "<Figure size 432x288 with 1 Axes>"
      ]
     },
     "metadata": {
      "needs_background": "light"
     },
     "output_type": "display_data"
    }
   ],
   "source": [
    "# Prepare the system to start close to a steady state\n",
    "ode  = dst.Generator.Vode_ODEsystem(DSargs)     # an instance of the 'Generator' class.\n",
    "ode.set(pars = {'phi': -2.} )     # Lower bound of the control parameter \n",
    "ode.set(ics =  {'x': -2.} )       # Close to one of the steady states present for this parameter\n",
    "\n",
    "PC = dst.ContClass(ode)         # Set up continuation class\n",
    "\n",
    "PCargs = dst.args(name='EQ1', type='EP-C')     # 'EP-C' stands for Equilibrium Point Curve. The branch will be labeled 'EQ1'.\n",
    "PCargs.freepars     = ['phi']                    # control parameter(s) (it should be among those specified in DSargs.pars)\n",
    "PCargs.MaxNumPoints = 100                      # The following 3 parameters are set after trial-and-error\n",
    "PCargs.MaxStepSize  = 0.1\n",
    "PCargs.MinStepSize  = 1e-5\n",
    "PCargs.StepSize     = 2e-2\n",
    "PCargs.LocBifPoints = 'LP'                     # detect limit points / saddle-node bifurcations\n",
    "PCargs.SaveEigen    = True                     # to tell unstable from stable branches\n",
    "PC.newCurve(PCargs)\n",
    "PC['EQ1'].forward()\n",
    "PC.display(['phi','x'], stability=True, figure=3)  # stable and unstable branches as solid and dashed curves, resp.\n",
    "plt.xlim(-2,2)\n",
    "plt.ylim(-2.,2)\n",
    "plt.title(\"Bifurcation diagram BTB-SN\")"
   ]
  },
  {
   "cell_type": "code",
   "execution_count": 5,
   "id": "dc9de474",
   "metadata": {},
   "outputs": [],
   "source": [
    "from scipy.integrate import solve_ivp\n",
    "import numpy as np\n",
    "import matplotlib.pyplot as plt"
   ]
  },
  {
   "cell_type": "code",
   "execution_count": 6,
   "id": "b86f4fcd",
   "metadata": {},
   "outputs": [],
   "source": [
    "def fsyst(x, p, t):\n",
    "    f = np.empty((1,))\n",
    "    p['phi'] = p['phi0'] + p['alpha'] * t\n",
    "    f[0] = p['a'] * x[0]**3 + p['b'] * x[0] + p['phi']\n",
    "    return f\n",
    "def f(t,X):\n",
    "    return fsyst(X,p,t)"
   ]
  },
  {
   "cell_type": "code",
   "execution_count": 14,
   "id": "8e4e9c10",
   "metadata": {},
   "outputs": [
    {
     "data": {
      "text/plain": [
       "Text(0, 0.5, '$x$')"
      ]
     },
     "execution_count": 14,
     "metadata": {},
     "output_type": "execute_result"
    },
    {
     "data": {
      "image/png": "[encoded data removed]",
      "text/plain": [
       "<Figure size 360x360 with 1 Axes>"
      ]
     },
     "metadata": {
      "needs_background": "light"
     },
     "output_type": "display_data"
    }
   ],
   "source": [
    "p={}\n",
    "\n",
    "p['a']= -0.5\n",
    "p['b']= 0.5\n",
    "p['alpha'] = -0.05\n",
    "p['phi0'] = 0.5 \n",
    "\n",
    "p['T']=100\n",
    "p['dt']=0.005\n",
    "p['steps']= int(p['T']//p['dt'])\n",
    "#Initial conditions\n",
    "X_0=[1.3]\n",
    "sol1 = solve_ivp(f,(0,p['T']),X_0,method='RK45',vectorized=True,max_step=p['dt'])\n",
    "\n",
    "plt.figure(1,figsize=(5,5))\n",
    "plt.plot(sol1.t,sol1.y[0,:],'k')\n",
    "plt.xlabel(r'$t$',fontsize=16); plt.ylabel(r'$x$',fontsize=16,rotation=0)"
   ]
  },
  {
   "cell_type": "code",
   "execution_count": null,
   "id": "abee8371",
   "metadata": {},
   "outputs": [],
   "source": []
  },
  {
   "cell_type": "code",
   "execution_count": null,
   "id": "4acabc62",
   "metadata": {},
   "outputs": [],
   "source": []
  }
 ],
 "metadata": {
  "kernelspec": {
   "display_name": "Python 3 (ipykernel)",
   "language": "python",
   "name": "python3"
  },
  "language_info": {
   "codemirror_mode": {
    "name": "ipython",
    "version": 3
   },
   "file_extension": ".py",
   "mimetype": "text/x-python",
   "name": "python",
   "nbconvert_exporter": "python",
   "pygments_lexer": "ipython3",
   "version": "3.9.7"
  }
 },
 "nbformat": 4,
 "nbformat_minor": 5
}
