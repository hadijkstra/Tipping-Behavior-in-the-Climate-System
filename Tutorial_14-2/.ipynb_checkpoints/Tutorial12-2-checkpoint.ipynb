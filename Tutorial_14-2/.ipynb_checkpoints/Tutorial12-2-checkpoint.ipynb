{
 "cells": [
  {
   "cell_type": "code",
   "execution_count": 34,
   "id": "dc9de474",
   "metadata": {},
   "outputs": [],
   "source": [
    "from scipy.integrate import solve_ivp\n",
    "import numpy as np\n",
    "import matplotlib.pyplot as plt"
   ]
  },
  {
   "cell_type": "code",
   "execution_count": 35,
   "id": "b86f4fcd",
   "metadata": {},
   "outputs": [],
   "source": [
    "def fsyst(x, p, t):\n",
    "    f = np.empty((1,))\n",
    "    a = np.\n",
    "    p['lambda'] = p['lambda_min'] + p['delta_lambda'] * t\n",
    "    f[0] = p['a'] * x[0]**3 + p['b'] * x[0] + p['phi']\n",
    "    return f\n",
    "def f(t,X):\n",
    "    return fsyst(X,p,t)"
   ]
  },
  {
   "cell_type": "code",
   "execution_count": 50,
   "id": "8e4e9c10",
   "metadata": {},
   "outputs": [
    {
     "data": {
      "text/plain": [
       "Text(0, 0.5, '$x$')"
      ]
     },
     "execution_count": 50,
     "metadata": {},
     "output_type": "execute_result"
    },
    {
     "data": {
      "image/png": "[encoded data removed]",
      "text/plain": [
       "<Figure size 360x360 with 1 Axes>"
      ]
     },
     "metadata": {
      "needs_background": "light"
     },
     "output_type": "display_data"
    }
   ],
   "source": [
    "p={}\n",
    "\n",
    "p['a']= -0.5\n",
    "p['b']= 0.5\n",
    "p['alpha'] = 0.01\n",
    "p['phi0'] = -0.5 \n",
    "\n",
    "p['T']=200\n",
    "p['dt']=0.005\n",
    "p['steps']= int(p['T']//p['dt'])\n",
    "#Initial conditions\n",
    "X_0=[-1.3]\n",
    "sol1 = solve_ivp(f,(0,p['T']),X_0,method='RK45',vectorized=True,max_step=p['dt'])\n",
    "\n",
    "plt.figure(1,figsize=(5,5))\n",
    "plt.plot(sol1.t,sol1.y[0,:],'k')\n",
    "plt.xlabel(r'$t$',fontsize=16); plt.ylabel(r'$x$',fontsize=16,rotation=0)"
   ]
  }
 ],
 "metadata": {
  "kernelspec": {
   "display_name": "Python 3 (ipykernel)",
   "language": "python",
   "name": "python3"
  },
  "language_info": {
   "codemirror_mode": {
    "name": "ipython",
    "version": 3
   },
   "file_extension": ".py",
   "mimetype": "text/x-python",
   "name": "python",
   "nbconvert_exporter": "python",
   "pygments_lexer": "ipython3",
   "version": "3.9.7"
  }
 },
 "nbformat": 4,
 "nbformat_minor": 5
}
